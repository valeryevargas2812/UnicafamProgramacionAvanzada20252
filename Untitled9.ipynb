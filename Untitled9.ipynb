{
  "nbformat": 4,
  "nbformat_minor": 0,
  "metadata": {
    "colab": {
      "provenance": [],
      "authorship_tag": "ABX9TyO41ef23pQHhjH7luex64Fk",
      "include_colab_link": true
    },
    "kernelspec": {
      "name": "python3",
      "display_name": "Python 3"
    },
    "language_info": {
      "name": "python"
    }
  },
  "cells": [
    {
      "cell_type": "markdown",
      "metadata": {
        "id": "view-in-github",
        "colab_type": "text"
      },
      "source": [
        "<a href=\"https://colab.research.google.com/github/valeryevargas2812/UnicafamProgramacionAvanzada20252/blob/main/Untitled9.ipynb\" target=\"_parent\"><img src=\"https://colab.research.google.com/assets/colab-badge.svg\" alt=\"Open In Colab\"/></a>"
      ]
    },
    {
      "cell_type": "markdown",
      "source": [
        "**Funciones**\n",
        "\n",
        "\n",
        "Programación Avanzada\n",
        "\n",
        "Ingeniría Industrial\n",
        "\n",
        "Facultad de Ingenieria\n",
        "\n",
        "Unicafam\n",
        "\n",
        "Docente: Nicolas Mojica\n",
        "\n",
        "Estudiante: Valerye Natalia Vargas Colmenares\n",
        "\n",
        "\n"
      ],
      "metadata": {
        "id": "2CsMSCuEJf11"
      }
    },
    {
      "cell_type": "code",
      "execution_count": 1,
      "metadata": {
        "id": "veP-uByxJeo8"
      },
      "outputs": [],
      "source": [
        "# Crear una función que presente a una persona de acuerdo a su nombre y edad\n",
        "def saludar(nombre,edad):                                 # los ':' es para inicial la función\n",
        "  print(f'Hola {nombre}, tienes {edad} años ')            # Aqui va lo que queremos que haga la función es decir parametrizar"
      ]
    },
    {
      "cell_type": "code",
      "source": [
        "# Evalucación de la función\n",
        "mensaje=saludar('valerye','19')"
      ],
      "metadata": {
        "colab": {
          "base_uri": "https://localhost:8080/"
        },
        "id": "Gur2bUZIJtvO",
        "outputId": "6fc84b98-f7e9-498c-beb8-dd2ab27e8c5a"
      },
      "execution_count": 2,
      "outputs": [
        {
          "output_type": "stream",
          "name": "stdout",
          "text": [
            "Hola valerye, tienes 19 años \n"
          ]
        }
      ]
    },
    {
      "cell_type": "code",
      "source": [
        "# Crear una función que me diga si un numero es par o no\n",
        "def par(nuemro):\n",
        "  if (nuemro%2)==0:\n",
        "    return 'Es par'\n",
        "  else:\n",
        "    return 'No es par'"
      ],
      "metadata": {
        "id": "DMn_dvpBJ3dn"
      },
      "execution_count": 4,
      "outputs": []
    },
    {
      "cell_type": "code",
      "source": [
        "# Comprobar si el numero es par\n",
        "par(4)"
      ],
      "metadata": {
        "colab": {
          "base_uri": "https://localhost:8080/",
          "height": 35
        },
        "id": "hDpDOUxWJ7md",
        "outputId": "4a3a4701-d2ef-4c76-89a3-4811e2db4edb"
      },
      "execution_count": 5,
      "outputs": [
        {
          "output_type": "execute_result",
          "data": {
            "text/plain": [
              "'Es par'"
            ],
            "application/vnd.google.colaboratory.intrinsic+json": {
              "type": "string"
            }
          },
          "metadata": {},
          "execution_count": 5
        }
      ]
    },
    {
      "cell_type": "code",
      "source": [
        "# Comprobar si el numero es par\n",
        "par(3)"
      ],
      "metadata": {
        "colab": {
          "base_uri": "https://localhost:8080/",
          "height": 35
        },
        "id": "9UhRd0a8KAU3",
        "outputId": "413fe7c0-95fe-440a-eddd-89273caa2887"
      },
      "execution_count": 6,
      "outputs": [
        {
          "output_type": "execute_result",
          "data": {
            "text/plain": [
              "'No es par'"
            ],
            "application/vnd.google.colaboratory.intrinsic+json": {
              "type": "string"
            }
          },
          "metadata": {},
          "execution_count": 6
        }
      ]
    },
    {
      "cell_type": "code",
      "source": [
        "# Operadores de comparación\n",
        "\"\"\"\n",
        "Comparaciones\n",
        "Las condiciones en las sentencias condicionales suelen involucrar operadores de comparación:\n",
        "\n",
        "- == (igual a)\n",
        "- != (diferente de)\n",
        "- > (mayor que)\n",
        "- < (menor que)\n",
        "- >= (mayor o igual que)\n",
        "- <= (menor o igual que)\n",
        "\"\"\""
      ],
      "metadata": {
        "colab": {
          "base_uri": "https://localhost:8080/",
          "height": 52
        },
        "id": "ePnEyIS8KOYx",
        "outputId": "6f8a0e6a-e696-433f-f862-d508190f8816"
      },
      "execution_count": 12,
      "outputs": [
        {
          "output_type": "execute_result",
          "data": {
            "text/plain": [
              "'\\nComparaciones\\nLas condiciones en las sentencias condicionales suelen involucrar operadores de comparación:\\n\\n- == (igual a)\\n- != (diferente de)\\n- > (mayor que)\\n- < (menor que)\\n- >= (mayor o igual que)\\n- <= (menor o igual que)\\n'"
            ],
            "application/vnd.google.colaboratory.intrinsic+json": {
              "type": "string"
            }
          },
          "metadata": {},
          "execution_count": 12
        }
      ]
    },
    {
      "cell_type": "code",
      "source": [
        "# Escriba un programa que le pregunte al usuario Cuales son sus ingresos minimos, cual es su estado civil para poder otorgaarle un credito:\n",
        "# 1. Si es soltero y tiene ingresos mensuales mayores o iguales a 6 millones de pesos se aprueba un credito de 50 millones\n",
        "# 2. Si es soltero y tiene ingresos mensuales mayores a 3 millones pero menores a 6 millones se aprueban 20 millones\n",
        "# 3. Si los ingresos son menores a 3 millones no se aprueba el credito\n",
        "\n",
        "# parametors para la función son los ingresos mensuales y el estado civil\n",
        "def credito(ingresos,estado):\n",
        "  if ingresos>3000000 and estado.lower()=='soltero':           # .lower condicional de que estado sea en minusculas\n",
        "    if ingresos<6000000:\n",
        "      print('Felicidades, tiene un credito aprobado por 20 millones de pesos')      # cuando no se utiliza el print casi siempre es return\n",
        "    else:\n",
        "      print('Felicidades, tiene un credito aprobado por 50 millones de pesos')\n",
        "  else:\n",
        "    print('Credito negado')"
      ],
      "metadata": {
        "id": "AARszbVxKQlc"
      },
      "execution_count": 11,
      "outputs": []
    },
    {
      "cell_type": "code",
      "source": [
        "print('-------- CALCULADORA DE PRESTAMO ---------')\n",
        "print('Para conocer el resultado de su solicitud de credito, proporciones los siguentes datos')\n",
        "ing=int(input('¿Cuales son tus ingresos mensuales?'))\n",
        "est=str(input('¿Cual es su estado civil? '))\n",
        "credito(ing, est)"
      ],
      "metadata": {
        "colab": {
          "base_uri": "https://localhost:8080/"
        },
        "id": "1foUNqAwKVlX",
        "outputId": "e1f03f60-fe10-4a40-ae2f-a0c767fd0dc7"
      },
      "execution_count": 13,
      "outputs": [
        {
          "output_type": "stream",
          "name": "stdout",
          "text": [
            "-------- CALCULADORA DE PRESTAMO ---------\n",
            "Para conocer el resultado de su solicitud de credito, proporciones los siguentes datos\n",
            "¿Cuales son tus ingresos mensuales? 1200000\n",
            "¿Cual es su estado civil?  soltera\n",
            "Credito negado\n"
          ]
        }
      ]
    },
    {
      "cell_type": "code",
      "source": [
        "# Crea una función que reciba una nota de 0 a 100 con las siguienes condiciones\n",
        "'''\n",
        "   Excelente notas entre 100 -90\n",
        "   Bueno notas entre 89 - 70\n",
        "   Suficiente notas entre 69 - 50\n",
        "   Insuficiente notas menores de 50\n",
        "   '''\n",
        "def notas (calificaciones):\n",
        "  if calificaciones<90:                    # para notas => 90 clasificación Exelente\n",
        "    if calificaciones<70:                  # para notas => 70 clasificación Bueno\n",
        "      if calificaciones<50:                # para notas => 50 clasificación Suficiente\n",
        "       print('Insufuciente')               # para valores menores a 50 clasificación Insuficiente\n",
        "      else:\n",
        "        print('Sufuciente')\n",
        "    else:\n",
        "      print('Bueno')\n",
        "  else:\n",
        "    print('Excelente')"
      ],
      "metadata": {
        "id": "g-FK5Z3PK4Jo"
      },
      "execution_count": 14,
      "outputs": []
    },
    {
      "cell_type": "code",
      "source": [
        "print('----------CONOCE TU DESEMPEÑO-------------')\n",
        "cal=int(input('Ingresa tu nota '))\n",
        "notas(cal)"
      ],
      "metadata": {
        "colab": {
          "base_uri": "https://localhost:8080/"
        },
        "id": "NERWHZKlK-ck",
        "outputId": "4bd2b67f-5ba6-453f-fd8f-cd2ddfdf12d7"
      },
      "execution_count": 15,
      "outputs": [
        {
          "output_type": "stream",
          "name": "stdout",
          "text": [
            "----------CONOCE TU DESEMPEÑO-------------\n",
            "Ingresa tu nota  50\n",
            "Sufuciente\n"
          ]
        }
      ]
    }
  ]
}