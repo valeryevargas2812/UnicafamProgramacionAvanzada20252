{
  "nbformat": 4,
  "nbformat_minor": 0,
  "metadata": {
    "colab": {
      "provenance": [],
      "authorship_tag": "ABX9TyNGAzyHTSM1tF7zw9l8umBG",
      "include_colab_link": true
    },
    "kernelspec": {
      "name": "python3",
      "display_name": "Python 3"
    },
    "language_info": {
      "name": "python"
    }
  },
  "cells": [
    {
      "cell_type": "markdown",
      "metadata": {
        "id": "view-in-github",
        "colab_type": "text"
      },
      "source": [
        "<a href=\"https://colab.research.google.com/github/valeryevargas2812/UnicafamProgramacionAvanzada20252/blob/main/Untitled8.ipynb\" target=\"_parent\"><img src=\"https://colab.research.google.com/assets/colab-badge.svg\" alt=\"Open In Colab\"/></a>"
      ]
    },
    {
      "cell_type": "markdown",
      "source": [
        "** Correccion Parcial primer corte**\n",
        "\n",
        "Programación Avanzada\n",
        "\n",
        "Ingeniría Industrial\n",
        "\n",
        "Facultad de Ingenieria\n",
        "\n",
        "Unicafam\n",
        "\n",
        "Docente: Nicolas Mojica\n",
        "\n",
        "Estudiante: Valerye Natalia Vargas Colmenares\n"
      ],
      "metadata": {
        "id": "pPY0C6UanQQa"
      }
    },
    {
      "cell_type": "code",
      "execution_count": 3,
      "metadata": {
        "colab": {
          "base_uri": "https://localhost:8080/"
        },
        "id": "oWE3drEwnOve",
        "outputId": "c2619720-cf6b-4ee0-b215-c2d85e91b294"
      },
      "outputs": [
        {
          "output_type": "stream",
          "name": "stdout",
          "text": [
            "ingrese su nombre valerye\n",
            "hola valerye\n",
            "ingresa tu primer pasatiempo cantar\n",
            "ingresa tu segundo pasatiempo bailar\n",
            "pasatiempo original: [' cantar', ' bailar']\n",
            "pasatiempos nuevos: ['leer', ' bailar']\n",
            "ingresa tu primera calificacion : 4.3\n",
            "ingresa tu segunda calificacion : 2.2\n",
            "ingresa tu tercera calificacion : 1.3\n",
            "el promedio de tus notas es: 2.6\n",
            "ingrese su edad 19\n",
            "ingrese su ciudad bogota\n",
            "{'nombre': ' valerye', 'pasatiempos': ['leer', ' bailar'], 'edad': 19, 'ciudad': ' bogota'}\n",
            " valerye es mayor de edad\n",
            "nombre en mayusculas  VALERYE\n",
            "Tres primeras letras del último pasatiempo:  ba\n",
            "Diccionario del usuario: {'nombre': ' valerye', 'pasatiempos': ['leer', ' bailar'], 'edad': 19, 'ciudad': ' bogota'}\n",
            "El promedio es: 2.6\n"
          ]
        }
      ],
      "source": [
        "#Bienvenida con cadena\n",
        "# Solicita al usuario su nombre mediante input().\n",
        "# Muestra un saludo concatenando \"Hola \" + nombre.\n",
        "\n",
        "nombre=input(\"ingrese su nombre\")\n",
        "print(\"hola\"+ nombre)\n",
        "\n",
        "#Lista de pasatiempos\n",
        "#✓ Crea una lista vacía llamada pasatiempos.\n",
        "#✓ Pide al usuario que escriba dos pasatiempos y añádelos a la lista con append().\n",
        "#✓ Reemplaza el primer pasatiempo por \"Leer\".\n",
        "\n",
        "\n",
        "pasatiempos=[]\n",
        "pasatiempo1=input(\"ingresa tu primer pasatiempo\")\n",
        "pasatiempo2=input(\"ingresa tu segundo pasatiempo\")\n",
        "\n",
        "pasatiempos.append(pasatiempo1)\n",
        "pasatiempos.append(pasatiempo2)\n",
        "print(\"pasatiempo original:\",pasatiempos)\n",
        "pasatiempos[0]=\"leer\"\n",
        "print(\"pasatiempos nuevos:\",pasatiempos)\n",
        "\n",
        "#Tupla de calificaciones\n",
        "#✓ Pide al usuario que ingrese tres calificaciones numéricas.\n",
        "#✓ Guarda estos valores en una tupla llamada notas.\n",
        "#✓ Calcula el promedio utilizando operadores matemáticos.\n",
        "\n",
        "calificacion1=float(input(\"ingresa tu primera calificacion : \"))\n",
        "calificacion2=float(input(\"ingresa tu segunda calificacion : \"))\n",
        "calificacion3=float(input(\"ingresa tu tercera calificacion : \"))\n",
        "\n",
        "notas=(calificacion1, calificacion2, calificacion3)\n",
        "\n",
        "promedio=(calificacion1+calificacion2+calificacion3)/3\n",
        "print(\"el promedio de tus notas es:\",promedio)\n",
        "\n",
        "#Diccionario del usuario\n",
        "#✓ Construye un diccionario llamado usuario con las siguientes claves y valores:\n",
        "#▪ nombre: el ingresado al inicio.\n",
        "#▪ edad: solicitada con input() y convertida a número.\n",
        "#▪ ciudad: pedida con input().\n",
        "#▪ pasatiempos: la lista creada en el paso 2.\n",
        "\n",
        "edad=int(input(\"ingrese su edad\"))\n",
        "ciudad=input(\"ingrese su ciudad\")\n",
        "\n",
        "usuario={\n",
        "    \"nombre\":nombre,\n",
        "    \"pasatiempos\":pasatiempos,\n",
        "    \"edad\":edad,\n",
        "    \"ciudad\": ciudad,\n",
        "    }\n",
        "print(usuario)\n",
        "\n",
        "#Condicional con edad\n",
        "#✓ Si la edad es mayor o igual a 18, muestra el mensaje: \"El usuario es mayor de edad\".\n",
        "#✓ De lo contrario, muestra: \"El usuario es menor de edad\".\n",
        "\n",
        "if usuario['edad']>=18:\n",
        "  print(f\"{usuario['nombre']} es mayor de edad\")\n",
        "\n",
        "else:\n",
        "  print(f\"{usuario['nombre']} es menor de edad\")\n",
        "\n",
        "# Cadenas\n",
        "#✓ Muestra el nombre del usuario en mayúsculas.\n",
        "#✓ Del último pasatiempo registrado, imprime únicamente sus 3 primeros caracteres.\n",
        "\n",
        "print(\"nombre en mayusculas\",\n",
        "usuario[\"nombre\"].upper())\n",
        "print(\"Tres primeras letras del último pasatiempo:\", pasatiempos[-1][:3])\n",
        "\n",
        "#Resultado final\n",
        "#Muestra en pantalla el diccionario usuario completo.\n",
        "#Muestra el promedio de notas con el mensaje: \"El promedio es: X\"\n",
        "\n",
        "print(\"Diccionario del usuario:\", usuario)\n",
        "print(\"El promedio es:\", promedio)\n",
        "\n"
      ]
    }
  ]
}