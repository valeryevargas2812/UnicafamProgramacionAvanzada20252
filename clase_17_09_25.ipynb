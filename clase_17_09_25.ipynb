{
  "nbformat": 4,
  "nbformat_minor": 0,
  "metadata": {
    "colab": {
      "provenance": [],
      "authorship_tag": "ABX9TyPesiTaIsGtotSYmp0Lx9uC",
      "include_colab_link": true
    },
    "kernelspec": {
      "name": "python3",
      "display_name": "Python 3"
    },
    "language_info": {
      "name": "python"
    }
  },
  "cells": [
    {
      "cell_type": "markdown",
      "metadata": {
        "id": "view-in-github",
        "colab_type": "text"
      },
      "source": [
        "<a href=\"https://colab.research.google.com/github/valeryevargas2812/UnicafamProgramacionAvanzada20252/blob/main/clase_17_09_25.ipynb\" target=\"_parent\"><img src=\"https://colab.research.google.com/assets/colab-badge.svg\" alt=\"Open In Colab\"/></a>"
      ]
    },
    {
      "cell_type": "markdown",
      "source": [
        "SyntaxError: Error de sintaxis en el código.\n",
        "\n",
        "TypeError: Operación o función aplicada a un tipo inapropiado.\n",
        "\n",
        "ValueError: Argumento con el tipo correcto pero valor inapropiado.\n",
        "\n",
        "IndexError: Índice fuera del rango de una lista o secuencia.\n",
        "\n",
        "KeyError: Clave que no existe en un diccionario.\n",
        "FileNotFoundError: Archivo no encontrado.\n",
        "\n",
        "ZeroDivisionError: División por cero.\n",
        "\n",
        "IOError: Problema de entrada/salida al leer o escribir archivos.\n",
        "\n",
        "AttributeError: Atributo que no existe en un objeto.\n",
        "\n",
        "ImportError: Módulo no encontrado al intentar importarlo.\n",
        "\n",
        "MemoryError: Agotamiento de memoria.\n",
        "\n",
        "OverflowError: Operación que excede el rango numérico."
      ],
      "metadata": {
        "id": "JqwNUaix_0dF"
      }
    },
    {
      "cell_type": "code",
      "execution_count": null,
      "metadata": {
        "colab": {
          "base_uri": "https://localhost:8080/"
        },
        "id": "CJM_H0C-_zUY",
        "outputId": "03455e1f-43c5-469e-ba7f-686382a72d04"
      },
      "outputs": [
        {
          "output_type": "stream",
          "name": "stdout",
          "text": [
            "no se puede dividir sobre cero\n"
          ]
        }
      ],
      "source": [
        "#division sobre cero\n",
        "\n",
        "try:\n",
        "  resultado=10/0\n",
        "except ZeroDivisionError:\n",
        "  # accion que se ejecuta en el caso de que en el try se halla identificado el error definido\n",
        "  print(\"no se puede dividir sobre cero\")"
      ]
    },
    {
      "cell_type": "code",
      "source": [
        "# calculadora de divisiones\n",
        "try:\n",
        "  a=int(input(\"ingrese numerador\"))\n",
        "  b=int(input(\"ingrese denominador\"))\n",
        "  c= a/b\n",
        "  print(f\"el resultdo de la division {a} y {b} es: {c}\")\n",
        "except ZeroDivisionError:\n",
        "  # accion que se ejecuta en el caso de que en el try se halla identificado el error definido\n",
        "  print(\"error no se puede dividir sobre cero\")"
      ],
      "metadata": {
        "colab": {
          "base_uri": "https://localhost:8080/"
        },
        "id": "cKWyq88DAun0",
        "outputId": "a9ee25d2-91f5-4e7f-afc6-8cda468beab4"
      },
      "execution_count": null,
      "outputs": [
        {
          "output_type": "stream",
          "name": "stdout",
          "text": [
            "ingrese numerador8\n",
            "ingrese denominador0\n",
            "error no se puede dividir sobre cero\n"
          ]
        }
      ]
    },
    {
      "cell_type": "code",
      "source": [
        "try:\n",
        "  a=int(input(\"ingrese numerador\"))\n",
        "  b=int(input(\"ingrese denominador\"))\n",
        "  c= a/b\n",
        "  print(f\"el resultdo de la division {a} y {b} es: {c}\")\n",
        "except ZeroDivisionError:\n",
        "  # accion que se ejecuta en el caso de que en el try se halla identificado el error definido\n",
        "  print(\"error no se puede dividir sobre cero\")\n",
        "except ValueError:\n",
        "    print(\"no puedes colocar textos en esta division\")"
      ],
      "metadata": {
        "colab": {
          "base_uri": "https://localhost:8080/"
        },
        "id": "7zVB0xUaCDu3",
        "outputId": "4275a7ed-6b5b-4d78-d7eb-58c7e271d3bc"
      },
      "execution_count": null,
      "outputs": [
        {
          "output_type": "stream",
          "name": "stdout",
          "text": [
            "ingrese numerador 5\n",
            "ingrese denominadordos\n",
            "no puedes colocar textos en esta division\n"
          ]
        }
      ]
    },
    {
      "cell_type": "markdown",
      "source": [
        "**manejo de excepciones generales**"
      ],
      "metadata": {
        "id": "jjXkYpHlEK43"
      }
    },
    {
      "cell_type": "code",
      "source": [
        "try:\n",
        "  a=int(input(\"ingrese numerador\"))\n",
        "  b=int(input(\"ingrese denominador\"))\n",
        "  c= a/b\n",
        "  print(f\"el resultdo de la division {a} y {b} es: {c}\")\n",
        "except Exception as e:\n",
        "  print(f\"el error es:{e} \")"
      ],
      "metadata": {
        "id": "akOPgbuWFJuj",
        "colab": {
          "base_uri": "https://localhost:8080/"
        },
        "outputId": "1c95fccc-434d-40d1-e63b-383066ac7de5"
      },
      "execution_count": 3,
      "outputs": [
        {
          "output_type": "stream",
          "name": "stdout",
          "text": [
            "ingrese numerador5\n",
            "ingrese denominadorcuatro\n",
            "el error es:invalid literal for int() with base 10: 'cuatro' \n"
          ]
        }
      ]
    },
    {
      "cell_type": "code",
      "source": [
        "try:\n",
        "  a=int(input(\"ingrese numerador\"))\n",
        "  b=int(input(\"ingrese denominador\"))\n",
        "  c= a/b\n",
        "  print(f\"el resultdo de la division {a} y {b} es: {c}\")\n",
        "except Exception:\n",
        "  print(f\"el error es:{Exception} \")"
      ],
      "metadata": {
        "colab": {
          "base_uri": "https://localhost:8080/"
        },
        "id": "IqXgZ_7cmilM",
        "outputId": "e829a760-cf12-48ad-bda8-db4177d1a4e0"
      },
      "execution_count": 4,
      "outputs": [
        {
          "output_type": "stream",
          "name": "stdout",
          "text": [
            "ingrese numerador5 \n",
            "ingrese denominador cuatro\n",
            "el error es:<class 'Exception'> \n"
          ]
        }
      ]
    },
    {
      "cell_type": "markdown",
      "source": [
        "** Uso del else finally**"
      ],
      "metadata": {
        "id": "R25TrFC0myiY"
      }
    },
    {
      "cell_type": "code",
      "source": [
        "# try: el bloque de codigo que voy a intentar ejecutar\n",
        "# except: codigo a ejecutar en el caso de presentarse un error\n",
        "# else: codigo a ejecutar si el try es exitoso\n",
        "# finally: codigo a ejecutar tanto si es exitoso o si tiene un error\n",
        "\n",
        "try:\n",
        "  a=int(input(\"ingrese numerador\"))\n",
        "  b=int(input(\"ingrese denominador\"))\n",
        "  c= a/b\n",
        "  print(f\"el resultdo de la division {a} y {b} es: {c}\")\n",
        "except Exception as e:\n",
        "  print(f\"el error es:{e} \")\n",
        "else:\n",
        "  print(\"la division fue exitosa\")\n",
        "finally:\n",
        "  print(\"la ejecucion de este programa a terminado\")"
      ],
      "metadata": {
        "colab": {
          "base_uri": "https://localhost:8080/"
        },
        "id": "F3yONPvRmvEP",
        "outputId": "749499b7-508c-4f65-c985-2bf6dd56f4c4"
      },
      "execution_count": 5,
      "outputs": [
        {
          "output_type": "stream",
          "name": "stdout",
          "text": [
            "ingrese numerador4\n",
            "ingrese denominador2\n",
            "el resultdo de la division 4 y 2 es: 2.0\n",
            "la division fue exitosa\n",
            "la ejecucion de este programa a terminado\n"
          ]
        }
      ]
    },
    {
      "cell_type": "code",
      "source": [
        "def convertir_a_entero(cadena):\n",
        "  entero= int(cadena)\n",
        "\n",
        "try:\n",
        "  cadena_usuario= str(input(\"ingrese palabra\"))\n",
        "  convertir_a_entero(cadena_usuario)\n",
        "except ValueError:\n",
        "  print(\"no se puede convertir una cadena a entero\")"
      ],
      "metadata": {
        "colab": {
          "base_uri": "https://localhost:8080/"
        },
        "id": "wtSgpjipXjKv",
        "outputId": "70a6e98d-67ab-4706-f6de-db9f43d2de69"
      },
      "execution_count": 7,
      "outputs": [
        {
          "output_type": "stream",
          "name": "stdout",
          "text": [
            "ingrese palabra carro\n",
            "no se puede convertir una cadena a entero\n"
          ]
        }
      ]
    },
    {
      "cell_type": "code",
      "source": [
        "def convertir_a_entero(cadena):\n",
        "    try:\n",
        "        numero = int(cadena)\n",
        "        return numero\n",
        "    except ValueError:\n",
        "        return \"Error: La cadena no puede convertirse a un número entero.\"\n"
      ],
      "metadata": {
        "id": "J5MXbmoNLrdl"
      },
      "execution_count": null,
      "outputs": []
    }
  ]
}