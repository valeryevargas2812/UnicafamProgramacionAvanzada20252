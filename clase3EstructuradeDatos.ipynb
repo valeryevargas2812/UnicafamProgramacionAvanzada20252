{
  "nbformat": 4,
  "nbformat_minor": 0,
  "metadata": {
    "colab": {
      "provenance": [],
      "authorship_tag": "ABX9TyMJPiTneE/cbT/LRD/BH6Ab",
      "include_colab_link": true
    },
    "kernelspec": {
      "name": "python3",
      "display_name": "Python 3"
    },
    "language_info": {
      "name": "python"
    }
  },
  "cells": [
    {
      "cell_type": "markdown",
      "metadata": {
        "id": "view-in-github",
        "colab_type": "text"
      },
      "source": [
        "<a href=\"https://colab.research.google.com/github/valeryevargas2812/UnicafamProgramacionAvanzada20252/blob/main/clase3EstructuradeDatos.ipynb\" target=\"_parent\"><img src=\"https://colab.research.google.com/assets/colab-badge.svg\" alt=\"Open In Colab\"/></a>"
      ]
    },
    {
      "cell_type": "markdown",
      "source": [
        "**Estructuras de datos**\n",
        "\n",
        "Programación Avanzada\n",
        "\n",
        "Ingeniría Industrial\n",
        "\n",
        "Facultad de Ingenieria\n",
        "\n",
        "Unicafam\n",
        "\n",
        "Docente: Nicolas Mojica\n",
        "\n",
        "Estudiante: Valerye Natalia Vargas Colmenares\n"
      ],
      "metadata": {
        "id": "jwiy9oob5BB7"
      }
    },
    {
      "cell_type": "markdown",
      "source": [
        "## Listas"
      ],
      "metadata": {
        "id": "1RVurxdA6_XS"
      }
    },
    {
      "cell_type": "code",
      "execution_count": 1,
      "metadata": {
        "id": "Eumx8b1m4v5l"
      },
      "outputs": [],
      "source": [
        "#crear lista vacia\n",
        "mi_lista=[]\n",
        "\n",
        "#crear una lista con elementos\n",
        "mi_lista=[1,2,3,\"vaca\",5.0]"
      ]
    },
    {
      "cell_type": "code",
      "source": [
        "mi_lista = [10, 20, 30, 40, 50]\n",
        "#acceder al 30\n",
        "print(mi_lista[2])\n",
        "\n",
        "#acceder al 10\n",
        "print(mi_lista[0])"
      ],
      "metadata": {
        "colab": {
          "base_uri": "https://localhost:8080/"
        },
        "id": "TWBiAwV08BDD",
        "outputId": "a2946f33-3acc-44cc-dd91-f31ea978564a"
      },
      "execution_count": 3,
      "outputs": [
        {
          "output_type": "stream",
          "name": "stdout",
          "text": [
            "30\n",
            "10\n"
          ]
        }
      ]
    },
    {
      "cell_type": "code",
      "source": [
        "#conocer la posicion de elemento en la lista a partir de su valor\n",
        "print(mi_lista.index(50))"
      ],
      "metadata": {
        "colab": {
          "base_uri": "https://localhost:8080/"
        },
        "id": "GyQbz9EH9Msx",
        "outputId": "e0da68ad-0496-4c0a-f406-fb1fb21b23b4"
      },
      "execution_count": 4,
      "outputs": [
        {
          "output_type": "stream",
          "name": "stdout",
          "text": [
            "4\n"
          ]
        }
      ]
    },
    {
      "cell_type": "code",
      "source": [
        "# diseñe un progama de actualizacion de datos que le permita al usuario actualizar su nombre siempre y cuando exista.\n",
        "mi_lista1=[\"isabel\",\"vicent\",\"manuel\",\"jhon\"]\n",
        "\n",
        "#Mensaje de bienvenida\n",
        "print(\"-------PROGRAMA ACTUALIZACION DE DATOS-------\")\n",
        "\n",
        "#Preguntar al usuario que nombre quiere buscar\n",
        "nombre_buscar=input(\"ingrese nombre a buscar: \")\n",
        "\n",
        "#Definicion de la condicional\n",
        "#Si el nombre del usuario existe en la lista\n",
        "if nombre_buscar in mi_lista1:\n",
        "\n",
        "  #Encuentra la posicion o el indice del nombre que ingreso el usuario dentro de la lista\n",
        "  pos=mi_lista1.index(nombre_buscar)\n",
        "\n",
        "  #Actualizo la posicion dentro de la lista con el nombre que me indicque el usuario\n",
        "  mi_lista1[pos]=input(\"ingrese nuevo nombre: \")\n",
        "\n",
        "  #Imprimo la lista actualizada\n",
        "  print(mi_lista1)\n",
        "else:\n",
        "  #En caso que el nombre que ingreso el usuario no exista le muestro el siguiete mensaje\n",
        "  print(\"su nombre no esta en la lista\")\n",
        "\n",
        ""
      ],
      "metadata": {
        "colab": {
          "base_uri": "https://localhost:8080/"
        },
        "id": "ttH_M5DR9_S8",
        "outputId": "a6f2da98-0f2f-4b69-8b3b-8c458ffda8ad"
      },
      "execution_count": 6,
      "outputs": [
        {
          "output_type": "stream",
          "name": "stdout",
          "text": [
            "-------PROGRAMA ACTUALIZACION DE DATOS-------\n",
            "ingrese nombre a buscar: vicent\n",
            "ingrese nuevo nombre: vincent\n",
            "['isabel', 'vincent', 'manuel', 'jhon']\n"
          ]
        }
      ]
    },
    {
      "cell_type": "code",
      "source": [
        "# metodos en las listas\n",
        "# actualizacion de datos en una lista\n",
        "mi_lista = [10, 20, 30, 40, 50]\n",
        "# cambiar elemento de una lista\n",
        "# llamar a la lista, determinar la posicion del elemento a cambiar y establecer el nuevo valor\n",
        "\n",
        "#cambiar el 40 por 1.5\n",
        "mi_lista[3]=1.5\n",
        "print(mi_lista)"
      ],
      "metadata": {
        "colab": {
          "base_uri": "https://localhost:8080/"
        },
        "id": "CPu61jumBKDc",
        "outputId": "13e03623-81bb-4120-fda7-cd7c68f78c41"
      },
      "execution_count": 7,
      "outputs": [
        {
          "output_type": "stream",
          "name": "stdout",
          "text": [
            "[10, 20, 30, 1.5, 50]\n"
          ]
        }
      ]
    },
    {
      "cell_type": "code",
      "source": [
        "# Cambiar el 50 por voy a pasar el parcial con 5\n",
        "mi_lista = [10, 20, 30, 40, 50]\n",
        "mi_lista[4]=\"Voy a pasar el parcial con 5\"\n",
        "print(mi_lista)"
      ],
      "metadata": {
        "colab": {
          "base_uri": "https://localhost:8080/"
        },
        "id": "5VDJvNKYFFb_",
        "outputId": "693180f2-8537-4e62-c3e6-776a4cd9d67a"
      },
      "execution_count": 8,
      "outputs": [
        {
          "output_type": "stream",
          "name": "stdout",
          "text": [
            "[10, 20, 30, 40, 'Voy a pasar el parcial con 5']\n"
          ]
        }
      ]
    },
    {
      "cell_type": "code",
      "source": [
        "# agregar elementos a la lista\n",
        "mi_lista.append(60)\n",
        "print(mi_lista)"
      ],
      "metadata": {
        "colab": {
          "base_uri": "https://localhost:8080/"
        },
        "id": "WCbXd08uGTu7",
        "outputId": "9eb735cf-cf6d-4460-9c55-8c79868d2f0b"
      },
      "execution_count": 9,
      "outputs": [
        {
          "output_type": "stream",
          "name": "stdout",
          "text": [
            "[10, 20, 30, 40, 'Voy a pasar el parcial con 5', 60]\n"
          ]
        }
      ]
    },
    {
      "cell_type": "code",
      "source": [
        "# agregar elemento a la lista en una posicion especifica\n",
        "mi_lista.insert(1,15)\n",
        "print(mi_lista)"
      ],
      "metadata": {
        "colab": {
          "base_uri": "https://localhost:8080/"
        },
        "id": "4CVLuKiTG1aX",
        "outputId": "ecce750b-aa5d-4e4a-c5ef-4ebcb78e814b"
      },
      "execution_count": 10,
      "outputs": [
        {
          "output_type": "stream",
          "name": "stdout",
          "text": [
            "[10, 15, 20, 30, 40, 'Voy a pasar el parcial con 5', 60]\n"
          ]
        }
      ]
    },
    {
      "cell_type": "code",
      "source": [
        "#eliminar un elemento de una lista\n",
        "del mi_lista[5]\n",
        "print(mi_lista)"
      ],
      "metadata": {
        "colab": {
          "base_uri": "https://localhost:8080/"
        },
        "id": "-8Szy5Z1HJC2",
        "outputId": "1da131f8-800d-476c-cd02-16e72d21e05b"
      },
      "execution_count": 11,
      "outputs": [
        {
          "output_type": "stream",
          "name": "stdout",
          "text": [
            "[10, 15, 20, 30, 40, 60]\n"
          ]
        }
      ]
    },
    {
      "cell_type": "code",
      "source": [
        "# diseñe un progama de actualizacion de datos que le permita al usuario actualizar su nombre siempre y cuando exista.\n",
        "mi_lista1=[\"isabel\",\"vicent\",\"manuel\",\"jhon\"]\n",
        "\n",
        "#Mensaje de bienvenida\n",
        "print(\"-------PROGRAMA ACTUALIZACION DE DATOS-------\")\n",
        "\n",
        "#Preguntar al usuario que nombre quiere buscar\n",
        "nombre_buscar=input(\"ingrese nombre a buscar: \")\n",
        "\n",
        "#Definicion de la condicional\n",
        "#Si el nombre del usuario existe en la lista\n",
        "if nombre_buscar in mi_lista1:\n",
        "\n",
        "  #Encuentra la posicion o el indice del nombre que ingreso el usuario dentro de la lista\n",
        "  pos=mi_lista1.index(nombre_buscar)\n",
        "\n",
        "  #Actualizo la posicion dentro de la lista con el nombre que me indicque el usuario\n",
        "  mi_lista1[pos]=input(\"ingrese nuevo nombre: \")\n",
        "\n",
        "  #Imprimo la lista actualizada\n",
        "  print(mi_lista1)\n",
        "else:\n",
        "  #En caso que el nombre que ingreso el usuario no exista le muestro el siguiete mensaje\n",
        "  print(\"su nombre no esta en la lista,agregue\")\n",
        "  nombre_nuevo=input(\"ingrese nuevo nombre: \")\n",
        "  mi_lista.append(nombre_nuevo)\n",
        "  # la f permite ocupar variables y valores streem dentro de un print\n",
        "  print(f\"felicidades,su nombre a sido registrado exitosamente:{nombre_nuevo}\")"
      ],
      "metadata": {
        "colab": {
          "base_uri": "https://localhost:8080/"
        },
        "id": "ixU3S_ayHx54",
        "outputId": "76ff6016-aacf-49dc-bbad-190d6fc59fed"
      },
      "execution_count": 14,
      "outputs": [
        {
          "output_type": "stream",
          "name": "stdout",
          "text": [
            "-------PROGRAMA ACTUALIZACION DE DATOS-------\n",
            "ingrese nombre a buscar: alejandro\n",
            "su nombre no esta en la lista,agregue\n",
            "ingrese nuevo nombre: alejandro\n",
            "felicidades,su nombre a sido registrado exitosamente:alejandro\n"
          ]
        }
      ]
    },
    {
      "cell_type": "code",
      "source": [],
      "metadata": {
        "id": "UOmp01v4J90B"
      },
      "execution_count": null,
      "outputs": []
    }
  ]
}