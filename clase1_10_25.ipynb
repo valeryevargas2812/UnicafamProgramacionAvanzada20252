{
  "nbformat": 4,
  "nbformat_minor": 0,
  "metadata": {
    "colab": {
      "provenance": [],
      "authorship_tag": "ABX9TyOc03Tpr2t0ux/dTccgwSef",
      "include_colab_link": true
    },
    "kernelspec": {
      "name": "python3",
      "display_name": "Python 3"
    },
    "language_info": {
      "name": "python"
    }
  },
  "cells": [
    {
      "cell_type": "markdown",
      "metadata": {
        "id": "view-in-github",
        "colab_type": "text"
      },
      "source": [
        "<a href=\"https://colab.research.google.com/github/valeryevargas2812/UnicafamProgramacionAvanzada20252/blob/main/clase1_10_25.ipynb\" target=\"_parent\"><img src=\"https://colab.research.google.com/assets/colab-badge.svg\" alt=\"Open In Colab\"/></a>"
      ]
    },
    {
      "cell_type": "markdown",
      "source": [
        "BUCLES Y CICLOS\n",
        "\n",
        "Programación Avanzada\n",
        "\n",
        "Ingeniría Industrial\n",
        "\n",
        "Facultad de Ingenieria\n",
        "\n",
        "Unicafam\n",
        "\n",
        "Docente: Nicolas Mojica\n",
        "\n",
        "Estudiante: Valerye Natalia Vargas Colmenares"
      ],
      "metadata": {
        "id": "btvb2WAMCJl-"
      }
    },
    {
      "cell_type": "code",
      "execution_count": 1,
      "metadata": {
        "colab": {
          "base_uri": "https://localhost:8080/"
        },
        "id": "Ykmu0pw8Bv1M",
        "outputId": "2bc43ce3-b86d-44a9-fc68-1b46257f2758"
      },
      "outputs": [
        {
          "output_type": "stream",
          "name": "stdout",
          "text": [
            "iteraccion:  0\n",
            "iteraccion:  1\n",
            "iteraccion:  2\n",
            "iteraccion:  3\n",
            "iteraccion:  4\n",
            "iteraccion:  5\n"
          ]
        }
      ],
      "source": [
        "#CICLO FOR\n",
        "# ES UN CLICLO QUE SE VA A REPETIR DE FORMA FINITA CON TODAS LAS INTERACCIONES\n",
        "numeros=[0,1,2,3,4,5]\n",
        "\n",
        "for i in numeros:\n",
        "  print(\"iteraccion: \",i)"
      ]
    },
    {
      "cell_type": "code",
      "source": [
        "# determine los numeros pares de una lista de datos\n",
        "\n",
        "validacion=[4,6,8,9,7,3,2,15,49,77,109]\n",
        "for i in validacion:\n",
        "  if i%2==0:\n",
        "    print(\"este numero es par: \",i)\n",
        "  else:\n",
        "    print(\"este numero es impar: \",i)"
      ],
      "metadata": {
        "colab": {
          "base_uri": "https://localhost:8080/"
        },
        "id": "mPF8rKSwLaIQ",
        "outputId": "37d8a07c-a1b8-481f-83cc-213d2124a28b"
      },
      "execution_count": 2,
      "outputs": [
        {
          "output_type": "stream",
          "name": "stdout",
          "text": [
            "este numero es par:  4\n",
            "este numero es par:  6\n",
            "este numero es par:  8\n",
            "este numero es impar:  9\n",
            "este numero es impar:  7\n",
            "este numero es impar:  3\n",
            "este numero es par:  2\n",
            "este numero es impar:  15\n",
            "este numero es impar:  49\n",
            "este numero es impar:  77\n",
            "este numero es impar:  109\n"
          ]
        }
      ]
    },
    {
      "cell_type": "code",
      "source": [
        "# desarrolle un contador que determine cuantas veces hay un nombre en una lista de datos\n",
        "\n",
        "generos=[\"h\",\"m\",\"m\",\"h\",\"h\",\"m\",\"h\"]\n",
        "cantidad_h=0\n",
        "cantidad_m=0\n",
        "for i in generos:\n",
        "  if i==\"h\":\n",
        "    cantidad_h+=1\n",
        "  elif i==\"m\":\n",
        "    cantidad_m+=1\n",
        "print(\"la cantidad de hombres es\", cantidad_h)\n",
        "print(\"la cantidad de mujeres es\", cantidad_m)"
      ],
      "metadata": {
        "colab": {
          "base_uri": "https://localhost:8080/"
        },
        "id": "tIROv2cFMZR2",
        "outputId": "e26ba01d-5f76-43e9-afbd-781cc29c24d5"
      },
      "execution_count": 4,
      "outputs": [
        {
          "output_type": "stream",
          "name": "stdout",
          "text": [
            "la cantidad de hombres es 4\n",
            "la cantidad de mujeres es 3\n"
          ]
        }
      ]
    },
    {
      "cell_type": "code",
      "source": [
        "# Desarrolla un programa que vuelva mayuscula los nombres que esten en posicion impar en la lista\n",
        "\n",
        "nombres=[\"vincent\",\"isabel\",\"alejandro\",\"david\",\"claudia\",\"manuel\",\"julian\"]\n",
        "nombres_mayusculas=[]\n",
        "for i in nombres:\n",
        "  if nombres.index(i)%2!=0:                                                        # el simbolo != se usa para una diferencia\n",
        "    n_mayusculas=i.upper()\n",
        "    nombres_mayusculas.append(n_mayusculas)\n",
        "\n",
        "print(nombres_mayusculas)"
      ],
      "metadata": {
        "colab": {
          "base_uri": "https://localhost:8080/"
        },
        "id": "SXesPKjsOdOG",
        "outputId": "e70ce904-97e3-4def-924f-b7bc6b175185"
      },
      "execution_count": 5,
      "outputs": [
        {
          "output_type": "stream",
          "name": "stdout",
          "text": [
            "['ISABEL', 'DAVID', 'MANUEL']\n"
          ]
        }
      ]
    },
    {
      "cell_type": "code",
      "source": [
        "# BUCLES\n",
        "# SON ESTRUCTURAS INTERATIVAS QUE SE REPITEN HASTA QUE UNA CONDICION SE CUMPLE\n",
        "\n",
        "# EJERCICIO 1\n",
        "# EJECUTE UN BUCLE DONDE EL DOCTOR STARNGE DONDE VA A SEGUIR NEGOCIANDO HASTA QUE DORMAMU LE DIJA QUE VA A NEGOCIAR\n",
        "\n",
        "negociar=\"\"\n",
        "while negociar!=\"si\":\n",
        "  print(\"dormamu a venido a negociar\")\n",
        "  negociar=input(\"¿vas a negociar?\")"
      ],
      "metadata": {
        "colab": {
          "base_uri": "https://localhost:8080/"
        },
        "id": "C5zgez6mRqSP",
        "outputId": "2d715b01-47f1-473a-ad9e-b022df7bed4c"
      },
      "execution_count": 6,
      "outputs": [
        {
          "name": "stdout",
          "output_type": "stream",
          "text": [
            "dormamu a venido a negociar\n",
            "¿vas a negociar?no\n",
            "dormamu a venido a negociar\n",
            "¿vas a negociar?no\n",
            "dormamu a venido a negociar\n",
            "¿vas a negociar?no\n",
            "dormamu a venido a negociar\n",
            "¿vas a negociar?no\n",
            "dormamu a venido a negociar\n",
            "¿vas a negociar?si\n"
          ]
        }
      ]
    },
    {
      "cell_type": "code",
      "source": [
        "# EJERCICIO 2\n",
        "# DESARROLLE UN PROGRAMA DE ACTUALIZACION DE NOMBRES\n",
        "\n",
        "nombres_actualizar=[\"vincent\",\"isabel\",\"alejandro\",\"david\",\"claudia\",\"manuel\",\"julian\"]\n",
        "nombre_nuevo=\"\"\n",
        "while nombre_nuevo not in nombres_actualizar:\n",
        "  nombre_nuevo=input(\"ingrese el nombre a actualizar\")\n",
        "nombre_cambio=input(\"ingrese nuevo nombre\")\n",
        "nombres_actualizar[nombres_actualizar.index(nombre_nuevo)]=nombre_cambio\n",
        "print(nombres_actualizar)"
      ],
      "metadata": {
        "colab": {
          "base_uri": "https://localhost:8080/"
        },
        "id": "5Vd8BhSKUDSz",
        "outputId": "90ef3573-8949-47b8-9806-743e54ac22ae"
      },
      "execution_count": 10,
      "outputs": [
        {
          "output_type": "stream",
          "name": "stdout",
          "text": [
            "ingrese el nombre a actualizarlaura\n",
            "ingrese el nombre a actualizarisabel\n",
            "ingrese nuevo nombrelaura\n",
            "['vincent', 'laura', 'alejandro', 'david', 'claudia', 'manuel', 'julian']\n"
          ]
        }
      ]
    }
  ]
}