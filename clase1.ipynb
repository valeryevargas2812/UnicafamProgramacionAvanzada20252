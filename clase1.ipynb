{
  "nbformat": 4,
  "nbformat_minor": 0,
  "metadata": {
    "colab": {
      "provenance": [],
      "authorship_tag": "ABX9TyP0rUe9lmVoovLonDaqD+5R",
      "include_colab_link": true
    },
    "kernelspec": {
      "name": "python3",
      "display_name": "Python 3"
    },
    "language_info": {
      "name": "python"
    }
  },
  "cells": [
    {
      "cell_type": "markdown",
      "metadata": {
        "id": "view-in-github",
        "colab_type": "text"
      },
      "source": [
        "<a href=\"https://colab.research.google.com/github/valeryevargas2812/UnicafamProgramacionAvanzada20252/blob/main/clase1.ipynb\" target=\"_parent\"><img src=\"https://colab.research.google.com/assets/colab-badge.svg\" alt=\"Open In Colab\"/></a>"
      ]
    },
    {
      "cell_type": "markdown",
      "source": [
        "**Introducción a python**\n",
        "\n",
        "Programación Avanzada\n",
        "\n",
        "Ingeniría Industrial\n",
        "\n",
        "Facultad de Ingenieria\n",
        "\n",
        "Unicafam\n",
        "\n",
        "Docente: Nicolas Mojica\n",
        "\n",
        "Estudiante: Valerye Natalia Vargas Colmenares\n",
        "\n",
        "---\n",
        "\n"
      ],
      "metadata": {
        "id": "0jTYOYU8zFBA"
      }
    },
    {
      "cell_type": "markdown",
      "source": [
        "## 1.Comentarios de codigo\n",
        "\n"
      ],
      "metadata": {
        "id": "xZXoDZNd0Pcf"
      }
    },
    {
      "cell_type": "code",
      "execution_count": 4,
      "metadata": {
        "colab": {
          "base_uri": "https://localhost:8080/"
        },
        "id": "W8RkYgZxx_p6",
        "outputId": "5f365cbd-2270-474b-8326-c78c5fe012f0"
      },
      "outputs": [
        {
          "output_type": "stream",
          "name": "stdout",
          "text": [
            "Hola mundo\n"
          ]
        }
      ],
      "source": [
        "# Este es un comentario de una sola linea\n",
        "print(\"Hola mundo\")"
      ]
    },
    {
      "cell_type": "code",
      "source": [
        "\"\"\" Este comentario\n",
        "es para\n",
        "varias lineas\"\"\"\n",
        "print(\"Hola mundo\")"
      ],
      "metadata": {
        "colab": {
          "base_uri": "https://localhost:8080/"
        },
        "id": "KyCLUyyA1W85",
        "outputId": "70b1ff8c-ed9e-46f2-a752-0d68d192e056"
      },
      "execution_count": 3,
      "outputs": [
        {
          "output_type": "stream",
          "name": "stdout",
          "text": [
            "Hola mundo\n"
          ]
        }
      ]
    },
    {
      "cell_type": "markdown",
      "source": [
        "## 2.Variables"
      ],
      "metadata": {
        "id": "T8TvWsSZ2eo6"
      }
    },
    {
      "cell_type": "code",
      "source": [
        "# reglas para nombrar una variable\n",
        "#1. No caracteres especiales- no espacios\n",
        "#2. Las variables son sencibles a las MAYUSCULAS o minusculas\n",
        "#3. Las variables se transforman a traves del codigo\n",
        "var=\"Hola mundo\"\n",
        "print(var)"
      ],
      "metadata": {
        "colab": {
          "base_uri": "https://localhost:8080/"
        },
        "id": "Zy_ss1Ph2MFM",
        "outputId": "a02f6ab3-84f1-42e4-db4d-d49ed3ee033e"
      },
      "execution_count": 5,
      "outputs": [
        {
          "output_type": "stream",
          "name": "stdout",
          "text": [
            "Hola mundo\n"
          ]
        }
      ]
    },
    {
      "cell_type": "markdown",
      "source": [
        "## 3.Tipos de datos"
      ],
      "metadata": {
        "id": "NWZ-h6Sz4sPg"
      }
    },
    {
      "cell_type": "code",
      "source": [
        "# Numericos\n",
        "# Enteros - integer - int\n",
        "entero=42\n",
        "entero_literal=int(42)\n",
        "type(entero)\n",
        "type(entero_literal)"
      ],
      "metadata": {
        "colab": {
          "base_uri": "https://localhost:8080/"
        },
        "id": "lsivP0424BKX",
        "outputId": "5cb11ae2-473a-4d4d-ea34-d47f884555ed"
      },
      "execution_count": 7,
      "outputs": [
        {
          "output_type": "execute_result",
          "data": {
            "text/plain": [
              "int"
            ]
          },
          "metadata": {},
          "execution_count": 7
        }
      ]
    },
    {
      "cell_type": "code",
      "source": [
        "# Decimales - float\n",
        "decimal=3.14\n",
        "decimal_literal=float(3.14)\n",
        "type(decimal)"
      ],
      "metadata": {
        "colab": {
          "base_uri": "https://localhost:8080/"
        },
        "id": "Sc3uRdUD59Cj",
        "outputId": "55edf207-d435-429e-f207-e51fee31cfda"
      },
      "execution_count": 8,
      "outputs": [
        {
          "output_type": "execute_result",
          "data": {
            "text/plain": [
              "float"
            ]
          },
          "metadata": {},
          "execution_count": 8
        }
      ]
    },
    {
      "cell_type": "code",
      "source": [
        "# Conversion de tipos de datos\n",
        "entero_convertido=float(entero)\n",
        "print(entero_convertido)\n",
        "type (entero_convertido)"
      ],
      "metadata": {
        "colab": {
          "base_uri": "https://localhost:8080/"
        },
        "id": "Vmc-KfbM7KqK",
        "outputId": "1db3d769-a30d-44fe-c4c0-2132fd0e9504"
      },
      "execution_count": 11,
      "outputs": [
        {
          "output_type": "stream",
          "name": "stdout",
          "text": [
            "42.0\n"
          ]
        },
        {
          "output_type": "execute_result",
          "data": {
            "text/plain": [
              "float"
            ]
          },
          "metadata": {},
          "execution_count": 11
        }
      ]
    },
    {
      "cell_type": "code",
      "source": [
        "# Valores de texto o de cadena - string\n",
        "cadena_simple=\"Hola mundo\"\n",
        "cadena_multi=\"\"\"cadena de\n",
        "varias\n",
        "lineas\"\"\""
      ],
      "metadata": {
        "id": "R4A8q0YM7iyI"
      },
      "execution_count": 13,
      "outputs": []
    },
    {
      "cell_type": "markdown",
      "source": [
        "## 4.Operadores aritmeticos\n"
      ],
      "metadata": {
        "id": "WEMwD3wa9Zbz"
      }
    },
    {
      "cell_type": "code",
      "source": [
        "a=10\n",
        "b=5\n",
        "# suma\n",
        "print(a+b)\n",
        "# Resta\n",
        "print(a-b)\n",
        "# Multiplicacio\n",
        "print(a*b)\n",
        "# Division\n",
        "print(a/b)\n",
        "# Divison entera\n",
        "print(a//b)                # el // realiza la division entera\n",
        "# Modulo                   Residuo de una division\n",
        "print(a%b)\n"
      ],
      "metadata": {
        "colab": {
          "base_uri": "https://localhost:8080/"
        },
        "id": "MbAipFTa9IkE",
        "outputId": "d530309c-967c-4a08-9365-1cee278557d1"
      },
      "execution_count": 15,
      "outputs": [
        {
          "output_type": "stream",
          "name": "stdout",
          "text": [
            "15\n",
            "5\n",
            "50\n",
            "2.0\n",
            "2\n",
            "0\n"
          ]
        }
      ]
    },
    {
      "cell_type": "code",
      "source": [],
      "metadata": {
        "id": "3sax7kt-9zrR"
      },
      "execution_count": null,
      "outputs": []
    }
  ]
}