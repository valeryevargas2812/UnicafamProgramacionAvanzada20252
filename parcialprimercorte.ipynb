{
  "nbformat": 4,
  "nbformat_minor": 0,
  "metadata": {
    "colab": {
      "provenance": [],
      "authorship_tag": "ABX9TyM+5urnM9flr7ppL3uF+9ds",
      "include_colab_link": true
    },
    "kernelspec": {
      "name": "python3",
      "display_name": "Python 3"
    },
    "language_info": {
      "name": "python"
    }
  },
  "cells": [
    {
      "cell_type": "markdown",
      "metadata": {
        "id": "view-in-github",
        "colab_type": "text"
      },
      "source": [
        "<a href=\"https://colab.research.google.com/github/valeryevargas2812/UnicafamProgramacionAvanzada20252/blob/main/parcialprimercorte.ipynb\" target=\"_parent\"><img src=\"https://colab.research.google.com/assets/colab-badge.svg\" alt=\"Open In Colab\"/></a>"
      ]
    },
    {
      "cell_type": "markdown",
      "source": [
        "**Parcial primer corte**\n",
        "\n",
        "Programación Avanzada\n",
        "\n",
        "Ingeniría Industrial\n",
        "\n",
        "Facultad de Ingenieria\n",
        "\n",
        "Unicafam\n",
        "\n",
        "Docente: Nicolas Mojica\n",
        "\n",
        "Estudiante: Valerye Natalia Vargas Colmenares"
      ],
      "metadata": {
        "id": "JBi16O_GzXy5"
      }
    },
    {
      "cell_type": "code",
      "execution_count": 32,
      "metadata": {
        "colab": {
          "base_uri": "https://localhost:8080/"
        },
        "id": "TZ0J6bjyzUGA",
        "outputId": "c289897e-fe87-4277-d170-279fc82a7c28"
      },
      "outputs": [
        {
          "output_type": "stream",
          "name": "stdout",
          "text": [
            "ingrese su nombre valerye \n",
            "hola valerye \n",
            "ingresa tu primer pasatiempo bailar\n",
            "ingresa tu segundo pasatiempo cantar\n",
            "pasatiempo original: [' bailar', ' cantar']\n",
            "pasatiempos nuevos: ['leer', ' cantar']\n",
            "ingresa tu primera calificacion : 3.2\n",
            "ingresa tu segunda calificacion : 4.1\n",
            "ingresa tu tercera calificacion : 3.9\n",
            "el promedio de tus notas es: 3.733333333333333\n",
            "ingrese su edad 29\n",
            "ingrese su ciudad bogota\n",
            "{'nombre': ' valerye ', 'pasatiempos': ['leer', ' cantar'], 'edad': 29, 'ciudad': ' bogota'}\n",
            " valerye  es mayor de edad\n",
            "nombre en mayusculas  VALERYE \n"
          ]
        }
      ],
      "source": [
        "#Bienvenida con cadena\n",
        "# Solicita al usuario su nombre mediante input().\n",
        "# Muestra un saludo concatenando \"Hola \" + nombre.\n",
        "\n",
        "nombre=input(\"ingrese su nombre\")\n",
        "print(\"hola\"+ nombre)\n",
        "\n",
        "#Lista de pasatiempos\n",
        "#✓ Crea una lista vacía llamada pasatiempos.\n",
        "#✓ Pide al usuario que escriba dos pasatiempos y añádelos a la lista con append().\n",
        "#✓ Reemplaza el primer pasatiempo por \"Leer\".\n",
        "\n",
        "\n",
        "pasatiempos=[]\n",
        "pasatiempo1=input(\"ingresa tu primer pasatiempo\")\n",
        "pasatiempo2=input(\"ingresa tu segundo pasatiempo\")\n",
        "\n",
        "pasatiempos.append(pasatiempo1)\n",
        "pasatiempos.append(pasatiempo2)\n",
        "print(\"pasatiempo original:\",pasatiempos)\n",
        "pasatiempos[0]=\"leer\"\n",
        "print(\"pasatiempos nuevos:\",pasatiempos)\n",
        "\n",
        "#Tupla de calificaciones\n",
        "#✓ Pide al usuario que ingrese tres calificaciones numéricas.\n",
        "#✓ Guarda estos valores en una tupla llamada notas.\n",
        "#✓ Calcula el promedio utilizando operadores matemáticos.\n",
        "\n",
        "calificacion1=float(input(\"ingresa tu primera calificacion : \"))\n",
        "calificacion2=float(input(\"ingresa tu segunda calificacion : \"))\n",
        "calificacion3=float(input(\"ingresa tu tercera calificacion : \"))\n",
        "\n",
        "notas=(calificacion1, calificacion2, calificacion3)\n",
        "\n",
        "promedio=(calificacion1+calificacion2+calificacion3)/3\n",
        "print(\"el promedio de tus notas es:\",promedio)\n",
        "\n",
        "#Diccionario del usuario\n",
        "#✓ Construye un diccionario llamado usuario con las siguientes claves y valores:\n",
        "#▪ nombre: el ingresado al inicio.\n",
        "#▪ edad: solicitada con input() y convertida a número.\n",
        "#▪ ciudad: pedida con input().\n",
        "#▪ pasatiempos: la lista creada en el paso 2.\n",
        "\n",
        "edad=int(input(\"ingrese su edad\"))\n",
        "ciudad=input(\"ingrese su ciudad\")\n",
        "\n",
        "usuario={\n",
        "    \"nombre\":nombre,\n",
        "    \"pasatiempos\":pasatiempos,\n",
        "    \"edad\":edad,\n",
        "    \"ciudad\": ciudad,\n",
        "    }\n",
        "print(usuario)\n",
        "\n",
        "#Condicional con edad\n",
        "#✓ Si la edad es mayor o igual a 18, muestra el mensaje: \"El usuario es mayor de edad\".\n",
        "#✓ De lo contrario, muestra: \"El usuario es menor de edad\".\n",
        "\n",
        "if usuario['edad']>=18:\n",
        "  print(f\"{usuario['nombre']} es mayor de edad\")\n",
        "\n",
        "else:\n",
        "  print(f\"{usuario['nombre']} es menor de edad\")\n",
        "\n",
        "# Cadenas\n",
        "#✓ Muestra el nombre del usuario en mayúsculas.\n",
        "#✓ Del último pasatiempo registrado, imprime únicamente sus 3 primeros caracteres.\n",
        "\n",
        "print(\"nombre en mayusculas\",\n",
        "usuario[\"nombre\"].upper())\n",
        "\n"
      ]
    }
  ]
}