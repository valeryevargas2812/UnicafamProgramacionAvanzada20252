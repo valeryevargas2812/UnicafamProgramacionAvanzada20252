{
  "nbformat": 4,
  "nbformat_minor": 0,
  "metadata": {
    "colab": {
      "provenance": [],
      "authorship_tag": "ABX9TyPH3DBaXWBPsXYLPqLW3FsL",
      "include_colab_link": true
    },
    "kernelspec": {
      "name": "python3",
      "display_name": "Python 3"
    },
    "language_info": {
      "name": "python"
    }
  },
  "cells": [
    {
      "cell_type": "markdown",
      "metadata": {
        "id": "view-in-github",
        "colab_type": "text"
      },
      "source": [
        "<a href=\"https://colab.research.google.com/github/valeryevargas2812/UnicafamProgramacionAvanzada20252/blob/main/Tallerbuclesyciclos.ipynb\" target=\"_parent\"><img src=\"https://colab.research.google.com/assets/colab-badge.svg\" alt=\"Open In Colab\"/></a>"
      ]
    },
    {
      "cell_type": "markdown",
      "source": [
        "**TALLER BUCLES Y CICLOS**\n",
        "\n",
        "Programación Avanzada\n",
        "\n",
        "Ingeniría Industrial\n",
        "\n",
        "Facultad de Ingenieria\n",
        "\n",
        "Unicafam\n",
        "\n",
        "Docente: Nicolas Mojica\n",
        "\n",
        "Estudiante: Valerye Natalia Vargas Colmenares"
      ],
      "metadata": {
        "id": "LflKW8FNQgJp"
      }
    },
    {
      "cell_type": "code",
      "execution_count": 2,
      "metadata": {
        "colab": {
          "base_uri": "https://localhost:8080/"
        },
        "id": "t8GwZxCaQfHZ",
        "outputId": "e90634c9-0e18-40ed-d442-1e1b1fd19f51"
      },
      "outputs": [
        {
          "output_type": "stream",
          "name": "stdout",
          "text": [
            "este numero es par:  2\n",
            "este numero es par:  4\n",
            "este numero es par:  6\n",
            "este numero es par:  8\n",
            "este numero es par:  10\n",
            "este numero es par:  12\n",
            "este numero es par:  14\n",
            "este numero es par:  16\n",
            "este numero es par:  18\n",
            "este numero es par:  20\n",
            "este numero es par:  22\n",
            "este numero es par:  24\n",
            "este numero es par:  26\n",
            "este numero es par:  28\n",
            "este numero es par:  30\n",
            "este numero es par:  32\n",
            "este numero es par:  34\n",
            "este numero es par:  36\n",
            "este numero es par:  38\n",
            "este numero es par:  40\n",
            "este numero es par:  42\n",
            "este numero es par:  44\n",
            "este numero es par:  46\n",
            "este numero es par:  48\n",
            "este numero es par:  50\n"
          ]
        }
      ],
      "source": [
        "#Ejercicio 1. Conteo de números pares\n",
        "#Escribe un programa que muestre todos los números pares del 1 al 50 usando un ciclo for\n",
        "\n",
        "validacion=[1,2,3,4,5,6,7,8,9,10,11,12,13,14,15,16,17,18,19,20,21,22,23,24,25,26,27,28,29,30,31,32,33,34,35,36,37,38,39,40,41,42,43,44,45,46,47,48,49,50]\n",
        "for i in validacion:\n",
        "  if i%2==0:\n",
        "    print(\"este numero es par: \",i)\n",
        "\n",
        "\n"
      ]
    },
    {
      "cell_type": "code",
      "source": [
        "#Ejercicio 2. Tabla de multiplicar\n",
        "#Pide al usuario un número y muestra su tabla de multiplicar del 1 al 10 usando un ciclo for.\n",
        "\n",
        "numero = int(input(\"Ingresa un número: \"))\n",
        "NUMERO =[0,1,2,3,4,5,6,7,8,9,10]\n",
        "\n",
        "for i in NUMERO:\n",
        "    resultado = numero * i\n",
        "    print(f\"{numero} x {i} = {resultado}\")\n"
      ],
      "metadata": {
        "colab": {
          "base_uri": "https://localhost:8080/"
        },
        "id": "_Qg5MUBkSb3I",
        "outputId": "a92bdc1b-ac0f-408a-f413-9f5ed1fe78fc"
      },
      "execution_count": 4,
      "outputs": [
        {
          "output_type": "stream",
          "name": "stdout",
          "text": [
            "Ingresa un número: 5\n",
            "5 x 0 = 0\n",
            "5 x 1 = 5\n",
            "5 x 2 = 10\n",
            "5 x 3 = 15\n",
            "5 x 4 = 20\n",
            "5 x 5 = 25\n",
            "5 x 6 = 30\n",
            "5 x 7 = 35\n",
            "5 x 8 = 40\n",
            "5 x 9 = 45\n",
            "5 x 10 = 50\n"
          ]
        }
      ]
    },
    {
      "cell_type": "code",
      "source": [
        "#Ejercicio 3. Adivina el número\n",
        "#Escribe un programa que elija un número secreto (definido en el código).\n",
        "#El usuario debe adivinarlo ingresando intentos. Usa un ciclo while que se repita hasta que el usuario adivine el número correcto.\n",
        "\n",
        "numero_secreto = 16\n",
        "intento = int(input(\"Adivina el número secreto entre 1 y 20: \"))\n",
        "\n",
        "while intento != numero_secreto:\n",
        "    print(\"No es el número. Intenta otra vez.\")\n",
        "    intento = int(input(\"Adivina el número secreto entre 1 y 20: \"))\n",
        "\n",
        "print(\" ¡Adivinaste el número! ¡Felicitaciones! \")\n"
      ],
      "metadata": {
        "colab": {
          "base_uri": "https://localhost:8080/"
        },
        "id": "TH7pHnhnTvWS",
        "outputId": "cf67b68f-6579-49af-ee60-aab54a07ca7e"
      },
      "execution_count": 10,
      "outputs": [
        {
          "output_type": "stream",
          "name": "stdout",
          "text": [
            "Adivina el número secreto entre 1 y 20: 8\n",
            "No es el número. Intenta otra vez.\n",
            "Adivina el número secreto entre 1 y 20: 19\n",
            "No es el número. Intenta otra vez.\n",
            "Adivina el número secreto entre 1 y 20: 16\n",
            " ¡Adivinaste el número! ¡Felicitaciones! \n"
          ]
        }
      ]
    },
    {
      "cell_type": "code",
      "source": [
        "#Ejercicio 4. Suma acumulada\n",
        "#Pide al usuario que ingrese números uno por uno. El programa debe ir sumándolos hasta que el usuario escriba \"fin\". Usa un ciclo while.\n",
        "\n",
        "\n",
        "suma = 0\n",
        "entrada = input(\"Ingresa un número o escribe 'fin' para tener el resultado: \")\n",
        "while entrada != \"fin\":\n",
        "    numero = float(entrada)\n",
        "    suma += numero\n",
        "    entrada = input(\"Ingresa otro número o escribe 'fin' para tener el resultado: \")\n",
        "print(f\" La suma total es: {suma}\")\n"
      ],
      "metadata": {
        "colab": {
          "base_uri": "https://localhost:8080/"
        },
        "id": "Qfe1qoBWVLcd",
        "outputId": "6fb0934d-4e01-4438-9874-c75f67b50ece"
      },
      "execution_count": 14,
      "outputs": [
        {
          "output_type": "stream",
          "name": "stdout",
          "text": [
            "Ingresa un número o escribe 'fin' para tener el resultado: 5\n",
            "Ingresa otro número o escribe 'fin' para tener el resultado: 6\n",
            "Ingresa otro número o escribe 'fin' para tener el resultado: 9\n",
            "Ingresa otro número o escribe 'fin' para tener el resultado: 111\n",
            "Ingresa otro número o escribe 'fin' para tener el resultado: 745645\n",
            "Ingresa otro número o escribe 'fin' para tener el resultado: fin\n",
            " La suma total es: 745776.0\n"
          ]
        }
      ]
    },
    {
      "cell_type": "code",
      "source": [
        "#Ejercicio 5. Contador de vocales\n",
        "#Escribe un programa que pida al usuario una palabra y cuente cuántas vocales (a, e, i, o, u) tiene. Usa un ciclo for.\n",
        "\n",
        "\n",
        "palabra = input(\"Ingresa una palabra: \")\n",
        "vocales = \"aeiouAEIOU\"\n",
        "contador = 0\n",
        "for letra in palabra:\n",
        "    if letra in vocales:\n",
        "        contador += 1\n",
        "print(f\"La palabra '{palabra}' tiene {contador} vocal(es).\")\n"
      ],
      "metadata": {
        "colab": {
          "base_uri": "https://localhost:8080/"
        },
        "id": "qBi7jzYZWTyo",
        "outputId": "b337c46e-86e4-4b5a-f55d-8a4e4efa6ec9"
      },
      "execution_count": 18,
      "outputs": [
        {
          "output_type": "stream",
          "name": "stdout",
          "text": [
            "Ingresa una palabra: marciano\n",
            "La palabra 'marciano' tiene 4 vocal(es).\n"
          ]
        }
      ]
    },
    {
      "cell_type": "code",
      "source": [
        "#Ejercicio 6. Números impares\n",
        "#Muestra todos los números impares del 1 al 30 usando un ciclo for.\n",
        "\n",
        "validacion=[1,2,3,4,5,6,7,8,9,10,11,12,13,14,15,16,17,18,19,20,21,22,23,24,25,26,27,28,29,30]\n",
        "for i in validacion:\n",
        "  if i%2!=0:\n",
        "    print(\"este numero es impar: \",i)"
      ],
      "metadata": {
        "colab": {
          "base_uri": "https://localhost:8080/"
        },
        "id": "Y8Maj-jnWwTh",
        "outputId": "7857aa61-8ea2-4fbc-ed2b-aaa116104c76"
      },
      "execution_count": 19,
      "outputs": [
        {
          "output_type": "stream",
          "name": "stdout",
          "text": [
            "este numero es impar:  1\n",
            "este numero es impar:  3\n",
            "este numero es impar:  5\n",
            "este numero es impar:  7\n",
            "este numero es impar:  9\n",
            "este numero es impar:  11\n",
            "este numero es impar:  13\n",
            "este numero es impar:  15\n",
            "este numero es impar:  17\n",
            "este numero es impar:  19\n",
            "este numero es impar:  21\n",
            "este numero es impar:  23\n",
            "este numero es impar:  25\n",
            "este numero es impar:  27\n",
            "este numero es impar:  29\n"
          ]
        }
      ]
    },
    {
      "cell_type": "code",
      "source": [
        "#Ejercicio 7. Contador regresivo\n",
        "#Escribe un programa que muestre una cuenta regresiva desde el número que indique el usuario hasta 1, usando un ciclo while.\n",
        "\n",
        "\n",
        "numero = int(input(\"Ingresa un número para comenzar la cuenta regresiva: \"))\n",
        "while numero >= 1:\n",
        "    print(numero)\n",
        "    numero -= 1\n",
        "print(\" !FIN!\")\n"
      ],
      "metadata": {
        "colab": {
          "base_uri": "https://localhost:8080/"
        },
        "id": "nsE3_O6OW489",
        "outputId": "ed344274-7c38-4c6a-86ce-15a57f7b5c1d"
      },
      "execution_count": 21,
      "outputs": [
        {
          "output_type": "stream",
          "name": "stdout",
          "text": [
            "Ingresa un número para comenzar la cuenta regresiva: 2\n",
            "2\n",
            "1\n",
            " !FIN!\n"
          ]
        }
      ]
    },
    {
      "cell_type": "code",
      "source": [
        "#Ejercicio 8. Menú repetitivo\n",
        "#Crea un programa que muestre el siguiente menú hasta que el usuario escriba \"salir\":\n",
        "# 1. Saludar\n",
        "# 2. Despedirse\n",
        "# 3. Salir\n",
        "\n",
        "\n",
        "opcion = \"\"\n",
        "while opcion != \"3\":\n",
        "    print(\"\\n--- MENÚ ---\")\n",
        "    print(\"1. Saludar\")\n",
        "    print(\"2. Despedirse\")\n",
        "    print(\"3. Salir\")\n",
        "\n",
        "    opcion = input(\"Elige una opción: \")\n",
        "\n",
        "    if opcion == \"1\":\n",
        "        print(\"¡Hola! Espero que estés teniendo un gran día.\")\n",
        "    elif opcion == \"2\":\n",
        "        print(\"¡Adiós! Que te vaya muy bien.\")\n",
        "    elif opcion == \"3\":\n",
        "        print(\"Saliendo del programa... ¡Hasta luego!\")\n",
        "    else:\n",
        "        print(\" Opción no válida. Intenta de nuevo.\")\n"
      ],
      "metadata": {
        "colab": {
          "base_uri": "https://localhost:8080/"
        },
        "id": "23dHTfXDXpFr",
        "outputId": "66e4a86d-1797-473b-91fd-87a2f61d3d53"
      },
      "execution_count": 23,
      "outputs": [
        {
          "output_type": "stream",
          "name": "stdout",
          "text": [
            "\n",
            "--- MENÚ ---\n",
            "1. Saludar\n",
            "2. Despedirse\n",
            "3. Salir\n",
            "Elige una opción: 1\n",
            "¡Hola! Espero que estés teniendo un gran día.\n",
            "\n",
            "--- MENÚ ---\n",
            "1. Saludar\n",
            "2. Despedirse\n",
            "3. Salir\n",
            "Elige una opción: 2\n",
            "¡Adiós! Que te vaya muy bien.\n",
            "\n",
            "--- MENÚ ---\n",
            "1. Saludar\n",
            "2. Despedirse\n",
            "3. Salir\n",
            "Elige una opción: 2\n",
            "¡Adiós! Que te vaya muy bien.\n",
            "\n",
            "--- MENÚ ---\n",
            "1. Saludar\n",
            "2. Despedirse\n",
            "3. Salir\n",
            "Elige una opción: 3\n",
            "Saliendo del programa... ¡Hasta luego!\n"
          ]
        }
      ]
    }
  ]
}